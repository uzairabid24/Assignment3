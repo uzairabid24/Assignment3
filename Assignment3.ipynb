{
 "cells": [
  {
   "cell_type": "code",
   "execution_count": 1,
   "id": "0530b173",
   "metadata": {},
   "outputs": [
    {
     "name": "stdout",
     "output_type": "stream",
     "text": [
      "Twinkle, twinkle, little star,\n",
      "              How I wonder what you are!\n",
      "                      Up above the world so high,\n",
      "                      Like a diamond in the sky.\n",
      "\n",
      "Twinkle, twinkle, little star,\n",
      "          How I wonder what you are\n"
     ]
    }
   ],
   "source": [
    "a='''Twinkle, twinkle, little star,\n",
    "              How I wonder what you are!\n",
    "                      Up above the world so high,\n",
    "                      Like a diamond in the sky.\n",
    "\n",
    "Twinkle, twinkle, little star,\n",
    "          How I wonder what you are'''\n",
    "print(a)\n"
   ]
  },
  {
   "cell_type": "code",
   "execution_count": 2,
   "id": "3e8de545",
   "metadata": {},
   "outputs": [
    {
     "name": "stdout",
     "output_type": "stream",
     "text": [
      "3.8.8\n"
     ]
    }
   ],
   "source": [
    "import platform\n",
    "print(platform.python_version())\n"
   ]
  },
  {
   "cell_type": "code",
   "execution_count": 3,
   "id": "e5285156",
   "metadata": {},
   "outputs": [
    {
     "name": "stdout",
     "output_type": "stream",
     "text": [
      "2021-10-24 11:23:55\n",
      "10-24-21 11:23:55\n"
     ]
    }
   ],
   "source": [
    "import datetime\n",
    "now = datetime.datetime.now()\n",
    "#DD/MM/YY\n",
    "print (now.strftime(\"%Y-%m-%d %H:%M:%S\"))\n",
    "#MM/DD/YY\n",
    "print (now.strftime(\"%m-%d-%y %H:%M:%S\"))\n"
   ]
  },
  {
   "cell_type": "code",
   "execution_count": 4,
   "id": "0661b36e",
   "metadata": {},
   "outputs": [
    {
     "name": "stdout",
     "output_type": "stream",
     "text": [
      "enter radius 2\n",
      "12.568\n"
     ]
    }
   ],
   "source": [
    "r=int(input(\"enter radius \"))\n",
    "A=3.142*(r**2)\n",
    "print(A)\n"
   ]
  },
  {
   "cell_type": "code",
   "execution_count": 5,
   "id": "efe7795b",
   "metadata": {},
   "outputs": [
    {
     "name": "stdout",
     "output_type": "stream",
     "text": [
      "First Name Uzair\n",
      "Last Name Abid\n",
      "Abid Uzair\n"
     ]
    }
   ],
   "source": [
    "a=input(\"First Name \")\n",
    "b=input(\"Last Name \")\n",
    "\n",
    "print(b , a)\n"
   ]
  },
  {
   "cell_type": "code",
   "execution_count": 6,
   "id": "1eebec6f",
   "metadata": {},
   "outputs": [
    {
     "name": "stdout",
     "output_type": "stream",
     "text": [
      "enter a number5\n",
      "enter a number10.5\n",
      "15.5\n"
     ]
    }
   ],
   "source": [
    "a= input(\"enter a number\")\n",
    "b=input(\"enter a number\")\n",
    "print(float(a)+float(b))\n"
   ]
  },
  {
   "cell_type": "code",
   "execution_count": 7,
   "id": "93d999de",
   "metadata": {},
   "outputs": [
    {
     "name": "stdout",
     "output_type": "stream",
     "text": [
      "Enter BIO marks out of 100 100\n",
      "Enter CHEMISTRY marks out of 100 100\n",
      "Enter PHYSICS marks out of 100 100\n",
      "Enter MATH marks out of 100 100\n",
      "Enter URDU marks out of 100 90\n",
      "Your Percentage is 98.0\n",
      "Grade A+\n"
     ]
    }
   ],
   "source": [
    "a=float(input(\"Enter BIO marks out of 100 \"))\n",
    "b=float(input(\"Enter CHEMISTRY marks out of 100 \"))\n",
    "c=float(input(\"Enter PHYSICS marks out of 100 \"))\n",
    "d=float(input(\"Enter MATH marks out of 100 \"))\n",
    "e=float(input(\"Enter URDU marks out of 100 \"))\n",
    "f=int(a+b+c+d+e)\n",
    "Total_marks = 500\n",
    "percentage= (f/Total_marks * 100)\n",
    "print(\"Your Percentage is \" + str(percentage))\n",
    "if percentage>=80:\n",
    "    print(\"Grade A+\")\n",
    "elif percentage>=70 and percentage <80:\n",
    "    print(\"Grade A\")\n",
    "elif percentage>=60 and percentage <70:\n",
    "    print(\"Grade B\")\n",
    "elif percentage>=50 and percentage <60:\n",
    "    print(\"Grade C\")\n",
    "elif percentage>=40 and percentage <50:\n",
    "    print(\"Grade D\")\n",
    "else:\n",
    "    print(\"Fail\")\n"
   ]
  },
  {
   "cell_type": "code",
   "execution_count": 8,
   "id": "655229f7",
   "metadata": {},
   "outputs": [
    {
     "name": "stdout",
     "output_type": "stream",
     "text": [
      "Enter any number 4\n",
      "Number = 4 and its even \n"
     ]
    }
   ],
   "source": [
    "a=int(input(\"Enter any number \"))\n",
    "if a%2==0:\n",
    "    print(\"Number = \"+ str(a) + str(\" and its even \"))\n",
    "else:\n",
    "    print(\"Number = \"+ str(a) + str(\" and its odd \"))\n"
   ]
  },
  {
   "cell_type": "code",
   "execution_count": 9,
   "id": "8c3578aa",
   "metadata": {},
   "outputs": [
    {
     "name": "stdout",
     "output_type": "stream",
     "text": [
      "Number of items in the list =  11\n"
     ]
    }
   ],
   "source": [
    "a = [1, 1, 2, 3, 5, 8, 13, 21, 34, 55, 89]\n",
    "print (\"Number of items in the list = \", len(a))\n"
   ]
  },
  {
   "cell_type": "code",
   "execution_count": 10,
   "id": "60bb3bb8",
   "metadata": {},
   "outputs": [
    {
     "name": "stdout",
     "output_type": "stream",
     "text": [
      "232\n"
     ]
    }
   ],
   "source": [
    "a = [1, 1, 2, 3, 5, 8, 13, 21, 34, 55, 89]\n",
    "print(sum(a))\n"
   ]
  },
  {
   "cell_type": "code",
   "execution_count": 11,
   "id": "f184f2de",
   "metadata": {},
   "outputs": [
    {
     "name": "stdout",
     "output_type": "stream",
     "text": [
      "the largest number is 89\n"
     ]
    }
   ],
   "source": [
    "a = [1, 1, 2, 3, 5, 8, 13, 21, 34, 55, 89]\n",
    "print(\"the largest number is \" + str (max(a)))\n"
   ]
  },
  {
   "cell_type": "code",
   "execution_count": 12,
   "id": "62ebbcc1",
   "metadata": {},
   "outputs": [
    {
     "name": "stdout",
     "output_type": "stream",
     "text": [
      "1\n",
      "1\n",
      "2\n",
      "3\n"
     ]
    }
   ],
   "source": [
    "a = [1, 1, 2, 3, 5, 8, 13, 21, 34, 55, 89]\n",
    "for item in a:\n",
    "  if item < 5:\n",
    "    print(item)\n"
   ]
  },
  {
   "cell_type": "code",
   "execution_count": null,
   "id": "ff2748c8",
   "metadata": {},
   "outputs": [],
   "source": []
  }
 ],
 "metadata": {
  "kernelspec": {
   "display_name": "Python 3",
   "language": "python",
   "name": "python3"
  },
  "language_info": {
   "codemirror_mode": {
    "name": "ipython",
    "version": 3
   },
   "file_extension": ".py",
   "mimetype": "text/x-python",
   "name": "python",
   "nbconvert_exporter": "python",
   "pygments_lexer": "ipython3",
   "version": "3.8.8"
  }
 },
 "nbformat": 4,
 "nbformat_minor": 5
}
